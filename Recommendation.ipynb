{
  "nbformat": 4,
  "nbformat_minor": 0,
  "metadata": {
    "colab": {
      "provenance": [],
      "gpuType": "T4",
      "authorship_tag": "ABX9TyPDNyG2EYjX66ZYdEMr+zDA",
      "include_colab_link": true
    },
    "kernelspec": {
      "name": "python3",
      "display_name": "Python 3"
    },
    "language_info": {
      "name": "python"
    },
    "accelerator": "GPU"
  },
  "cells": [
    {
      "cell_type": "markdown",
      "metadata": {
        "id": "view-in-github",
        "colab_type": "text"
      },
      "source": [
        "<a href=\"https://colab.research.google.com/github/shadam96/sfashion/blob/main/Recommendation.ipynb\" target=\"_parent\"><img src=\"https://colab.research.google.com/assets/colab-badge.svg\" alt=\"Open In Colab\"/></a>"
      ]
    },
    {
      "cell_type": "code",
      "execution_count": 1,
      "metadata": {
        "colab": {
          "base_uri": "https://localhost:8080/"
        },
        "id": "ZB_XsWdHs2Yo",
        "outputId": "7fef58db-4828-44ba-a7dc-f44f832959a4"
      },
      "outputs": [
        {
          "output_type": "stream",
          "name": "stdout",
          "text": [
            "Mounted at /content/drive\n"
          ]
        }
      ],
      "source": [
        "from google.colab import drive\n",
        "drive.mount('/content/drive')"
      ]
    },
    {
      "cell_type": "code",
      "source": [
        "%ls /content"
      ],
      "metadata": {
        "colab": {
          "base_uri": "https://localhost:8080/"
        },
        "id": "kUEN-WQi5Jbn",
        "outputId": "563d66a7-155f-4208-b0bb-fef391a8e919"
      },
      "execution_count": 2,
      "outputs": [
        {
          "output_type": "stream",
          "name": "stdout",
          "text": [
            "\u001b[0m\u001b[01;34mdrive\u001b[0m/  \u001b[01;34msample_data\u001b[0m/\n"
          ]
        }
      ]
    },
    {
      "cell_type": "code",
      "source": [
        "# Clone YOLOv5 repository\n",
        "%cd /content/drive/MyDrive/SFashion\n",
        "!echo \"git clone https://github.com/ultralytics/yolov5\"\n",
        "!git clone https://github.com/ultralytics/yolov5\n",
        "%cd yolov5\n",
        "!git log -n 1"
      ],
      "metadata": {
        "colab": {
          "base_uri": "https://localhost:8080/"
        },
        "id": "nHUk-Jsp8L09",
        "outputId": "2e9f00d8-011e-4b71-cf00-4650b458c5de"
      },
      "execution_count": null,
      "outputs": [
        {
          "output_type": "stream",
          "name": "stdout",
          "text": [
            "/content/drive/.shortcut-targets-by-id/1zijVHvPbhpFtyHj-AtnPAqXH1TB8ch69/SFashion\n",
            "git clone https://github.com/ultralytics/yolov5\n",
            "fatal: destination path 'yolov5' already exists and is not an empty directory.\n",
            "/content/drive/.shortcut-targets-by-id/1zijVHvPbhpFtyHj-AtnPAqXH1TB8ch69/SFashion/yolov5\n",
            "\u001b[33mcommit 9e97ac37f5e76ee535d06a919fd0e9209fae1d5a\u001b[m\u001b[33m (\u001b[m\u001b[1;36mHEAD -> \u001b[m\u001b[1;32mmaster\u001b[m\u001b[33m, \u001b[m\u001b[1;31morigin/master\u001b[m\u001b[33m, \u001b[m\u001b[1;31morigin/HEAD\u001b[m\u001b[33m)\u001b[m\n",
            "Author: Glenn Jocher <glenn.jocher@ultralytics.com>\n",
            "Date:   Thu Sep 14 01:32:48 2023 +0200\n",
            "\n",
            "    [Snyk] Security upgrade numpy from 1.21.3 to 1.22.2 (#12118)\n",
            "    \n",
            "    fix: requirements.txt to reduce vulnerabilities\n",
            "    \n",
            "    \n",
            "    The following vulnerabilities are fixed by pinning transitive dependencies:\n",
            "    - https://snyk.io/vuln/SNYK-PYTHON-NUMPY-2321964\n",
            "    - https://snyk.io/vuln/SNYK-PYTHON-NUMPY-2321966\n",
            "    - https://snyk.io/vuln/SNYK-PYTHON-NUMPY-2321970\n",
            "    \n",
            "    Co-authored-by: snyk-bot <snyk-bot@snyk.io>\n"
          ]
        }
      ]
    },
    {
      "cell_type": "markdown",
      "source": [
        "#Move to new working directory"
      ],
      "metadata": {
        "id": "qkoghnLHt1f8"
      }
    },
    {
      "cell_type": "code",
      "source": [
        "%pip install -qr requirements.txt comet_ml  # install\n",
        "\n",
        "import torch\n",
        "import utils\n",
        "display = utils.notebook_init()  # checks\n",
        "%ls"
      ],
      "metadata": {
        "colab": {
          "base_uri": "https://localhost:8080/"
        },
        "id": "qTVqwBc-twtT",
        "outputId": "51e814cf-76f7-4336-a158-1572a606b34a"
      },
      "execution_count": null,
      "outputs": [
        {
          "output_type": "stream",
          "name": "stderr",
          "text": [
            "YOLOv5 🚀 v7.0-218-g9e97ac3 Python-3.10.12 torch-2.0.1+cu118 CUDA:0 (Tesla T4, 15102MiB)\n"
          ]
        },
        {
          "output_type": "stream",
          "name": "stdout",
          "text": [
            "Setup complete ✅ (2 CPUs, 12.7 GB RAM, 26.4/78.2 GB disk)\n",
            "benchmarks.py    \u001b[0m\u001b[01;34mdata\u001b[0m/       LICENSE          requirements.txt  tutorial.ipynb\n",
            "CITATION.cff     detect.py   \u001b[01;34mmodels\u001b[0m/          \u001b[01;34msegment\u001b[0m/          \u001b[01;34mutils\u001b[0m/\n",
            "\u001b[01;34mclassify\u001b[0m/        export.py   README.md        setup.cfg         val.py\n",
            "CONTRIBUTING.md  hubconf.py  README.zh-CN.md  train.py\n"
          ]
        }
      ]
    },
    {
      "cell_type": "markdown",
      "source": [],
      "metadata": {
        "id": "uJ0W4O01t0WT"
      }
    },
    {
      "cell_type": "code",
      "source": [
        "import torch\n",
        "\n",
        "# Load the trained model\n",
        "#model = torch.load('yolov5s.pt', map_location='cuda')  # Use 'cuda' if GPU available, 'cpu' if not\n",
        "#model.eval()  # Set the model to evaluation mode\n",
        "\n",
        "%cd /content/drive/MyDrive/SFashion\n",
        "#!python detect.py --weights runs/train/exp/weights/best.pt --img 416 --conf 0.1 --source {dataset.location}/test/images\n",
        "!python detect.py --weights yolo/yolov5s.pt --img 416 --conf 0.1 --source blueshirt.jpg\n"
      ],
      "metadata": {
        "colab": {
          "base_uri": "https://localhost:8080/"
        },
        "id": "n8rjbtuctmJu",
        "outputId": "7cc2f32c-c805-4243-aec4-ac8a5cc661c3"
      },
      "execution_count": null,
      "outputs": [
        {
          "output_type": "stream",
          "name": "stdout",
          "text": [
            "\u001b[34m\u001b[1mdetect: \u001b[0mweights=['/content/drive/MyDrive/SFashion/yolo/yolov5s.pt'], source=/content/drive/MyDrive/SFashion/blueshirt.jpg, data=data/coco128.yaml, imgsz=[416, 416], conf_thres=0.1, iou_thres=0.45, max_det=1000, device=, view_img=False, save_txt=False, save_csv=False, save_conf=False, save_crop=False, nosave=False, classes=None, agnostic_nms=False, augment=False, visualize=False, update=False, project=runs/detect, name=exp, exist_ok=False, line_thickness=3, hide_labels=False, hide_conf=False, half=False, dnn=False, vid_stride=1\n",
            "YOLOv5 🚀 v7.0-218-g9e97ac3 Python-3.10.12 torch-2.0.1+cu118 CUDA:0 (Tesla T4, 15102MiB)\n",
            "\n",
            "Fusing layers... \n",
            "YOLOv5s_v6 summary: 213 layers, 7225885 parameters, 0 gradients\n",
            "image 1/1 /content/drive/.shortcut-targets-by-id/1zijVHvPbhpFtyHj-AtnPAqXH1TB8ch69/SFashion/blueshirt.jpg: 288x416 2 persons, 44.8ms\n",
            "Speed: 0.6ms pre-process, 44.8ms inference, 230.9ms NMS per image at shape (1, 3, 416, 416)\n",
            "Results saved to \u001b[1mruns/detect/exp\u001b[0m\n"
          ]
        }
      ]
    },
    {
      "cell_type": "code",
      "source": [
        "%ls 'runs/detect/exp'"
      ],
      "metadata": {
        "id": "tuur9NB3w75y",
        "colab": {
          "base_uri": "https://localhost:8080/"
        },
        "outputId": "68238f38-7338-4559-d168-8f1c6a342ff9"
      },
      "execution_count": null,
      "outputs": [
        {
          "output_type": "stream",
          "name": "stdout",
          "text": [
            "blueshirt.jpg\n"
          ]
        }
      ]
    }
  ]
}